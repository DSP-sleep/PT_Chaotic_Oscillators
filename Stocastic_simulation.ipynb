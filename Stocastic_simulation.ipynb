{
 "cells": [
  {
   "cell_type": "code",
   "execution_count": null,
   "metadata": {
    "scrolled": true
   },
   "outputs": [],
   "source": [
    "\"\"\"Stochastic simulation\"\"\"\n",
    "\n",
    "import stochpy\n",
    "import matplotlib\n",
    "import matplotlib.pyplot as plt\n",
    "import numpy as np\n",
    "from mpl_toolkits.mplot3d import Axes3D\n",
    "from tqdm import tqdm"
   ]
  },
  {
   "cell_type": "code",
   "execution_count": null,
   "metadata": {
    "scrolled": true
   },
   "outputs": [],
   "source": [
    "simulation = stochpy.SSA()\n",
    "simulation.Model('./Typical_chaos.psc')\n",
    "simulation.DoStochSim(mode='time', end=300, quiet=False)"
   ]
  },
  {
   "cell_type": "code",
   "execution_count": null,
   "metadata": {},
   "outputs": [],
   "source": [
    "labels = simulation.data_stochsim.species_labels\n",
    "for i, label in enumerate(labels):\n",
    "    print(i, label)"
   ]
  },
  {
   "cell_type": "code",
   "execution_count": null,
   "metadata": {
    "collapsed": true
   },
   "outputs": [],
   "source": [
    "# label index\n",
    "\n",
    "E = [1]\n",
    "F = [9]\n",
    "\n",
    "Sa = [0, 3, 5, 7]\n",
    "ESa = [2, 4, 6, 8]\n",
    "FSa = [10, 11, 12, 13]\n",
    "Sb = [14, 16, 18, 20]\n",
    "ESb = [15, 17, 19, 21]\n",
    "FSb = [22, 23, 24, 25]"
   ]
  },
  {
   "cell_type": "code",
   "execution_count": null,
   "metadata": {},
   "outputs": [],
   "source": [
    "plt.plot(data[:, Sa])\n",
    "plt.xlim(2500000, 2550000)\n",
    "plt.show()\n",
    "plt.close()\n",
    "\n",
    "plt.plot(data[:, Sb])\n",
    "plt.xlim(2500000, 2550000)\n",
    "plt.show()\n",
    "plt.close()"
   ]
  },
  {
   "cell_type": "code",
   "execution_count": null,
   "metadata": {
    "collapsed": true
   },
   "outputs": [],
   "source": [
    "# For visualization"
   ]
  },
  {
   "cell_type": "code",
   "execution_count": null,
   "metadata": {
    "collapsed": true
   },
   "outputs": [],
   "source": [
    "def reconstruct_substrate_states(simulation, a_or_b):\n",
    "    \"\"\"\n",
    "    Set label about which state every single substrate molecule is in.\n",
    "    \n",
    "    Parameters\n",
    "    --------------\n",
    "    simulation : stochpy instance\n",
    "    Simulated stochpy instance.\n",
    "    a_or_b : str\n",
    "    Which side of substrate molecules to set labels. 'a' or 'b'.\n",
    "    \n",
    "    Returns\n",
    "    ----------\n",
    "    state_molecules : array\n",
    "    The reconstructed state of substrate molecules at each reaction.\n",
    "    \"\"\"\n",
    "    \n",
    "    labels = simulation.data_stochsim.species_labels\n",
    "    n_mol = simulation.data_stochsim.species[0][0]\n",
    "    this_substrate = []\n",
    "    for i_label, label in enumerate(labels):\n",
    "        if a_or_b in label:\n",
    "            this_substrate.append(i_label)\n",
    "    \n",
    "    data = simulation.data_stochsim.species[:, this_substrate].astype(float) # load data\n",
    "    state_molecules = np.zeros((data.shape[0], n_mol)) # initialize current molecule state. size=(time, n_molecules)\n",
    "    d_substrate = np.diff(data, axis=0) # molecule transition. At each time, molecule transforms from column of -1 to 1.\n",
    "    for t, d in tqdm(enumerate(d_substrate, start=1)):\n",
    "        state_molecules[t] = molecules[t-1]\n",
    "        if  any(d>0):\n",
    "            before_state = np.where(d==-1)[0][0] # column of -1\n",
    "            after_state = np.where(d==1)[0][0] # column of 1\n",
    "            state_molecules_thisstate = np.where(state_molecules[t]==before_state)[0] # candidate molecules that transforms\n",
    "            n_molecules_thisstate = state_molecules_thisstate.shape[0] # number of candidate molecules\n",
    "            which_molecule = np.random.randint(n_molecules_thisstate) # choose single molecule randomly from candidates\n",
    "            state_molecules[t, state_molecules_thisstate[which_molecule]] = after_state # update molecule state\n",
    "    return(state_molecules)"
   ]
  },
  {
   "cell_type": "code",
   "execution_count": null,
   "metadata": {
    "collapsed": true
   },
   "outputs": [],
   "source": [
    "def reconstruct_enzyme_states(simulation, E_or_F):\n",
    "    \"\"\"\n",
    "    Set label about which state every single enzyme molecule is in.\n",
    "    \n",
    "    Parameters\n",
    "    --------------\n",
    "    simulation : stochpy instance\n",
    "    Simulated stochpy instance.\n",
    "    E_or_F : str\n",
    "    Which enzyme molecules to set labels. 'E' or 'F'.\n",
    "    \n",
    "    Returns\n",
    "    ----------\n",
    "    state_molecules : array\n",
    "    The reconstructed state of enzyme molecules at each reaction.\n",
    "    \"\"\"\n",
    "    \n",
    "    labels = simulation.data_stochsim.species_labels\n",
    "    n_mol = simulation.data_stochsim.species[0][1]\n",
    "    if E_or_F=='E':\n",
    "        this_enzyme = [1, 2, 4, 6, 8, 15, 17, 19, 21]\n",
    "    elif E_or_F=='F':\n",
    "        this_enzyme = [9, 10, 11, 12, 13, 22, 23, 24, 25]\n",
    "    \n",
    "    data = simulation.data_stochsim.species[:, this_enzyme].astype(float) # load data\n",
    "    state_molecules = np.zeros((data.shape[0], n_mol)) # initialize current molecule state. size=(time, n_molecules)\n",
    "    d_enzyme = np.diff(data, axis=0) # molecule transition. At each time, molecule transforms from column of -1 to 1.\n",
    "    for t, d in tqdm(enumerate(d_enzyme, start=1)):\n",
    "        state_molecules[t] = state_molecules[t-1]\n",
    "        if  any(d>0):\n",
    "            before_state = np.where(d==-1)[0][0] # column of -1\n",
    "            after_state = np.where(d==1)[0][0] # column of 1\n",
    "            state_molecules_thisstate = np.where(state_molecules[t]==before_state)[0] # candidate molecules that transforms\n",
    "            n_molecules_thisstate = state_molecules_thisstate.shape[0] # number of candidate molecules\n",
    "            which_molecule = np.random.randint(n_molecules_thisstate) # choose single molecule randomly from candidates\n",
    "            state_molecules[t, state_molecules_thisstate[which_molecule]] = after_state # update molecule state\n",
    "    return(state_molecules)"
   ]
  },
  {
   "cell_type": "code",
   "execution_count": null,
   "metadata": {
    "collapsed": true
   },
   "outputs": [],
   "source": [
    "def visualize_substrate_states(states_Sa, states_Sb, simulation, windowtype='wide'):\n",
    "    \"\"\"\n",
    "    Visualize which states molecules are in within a certain time window.\n",
    "    \n",
    "    Parameters\n",
    "    --------------\n",
    "    states_Sa : array\n",
    "    Molecule states of substrate a reconstructed using the function 'reconstruct_substrate_states'.\n",
    "    states_Sb : array\n",
    "    Molecule states of substrate b reconstructed using the function 'reconstruct_substrate_states.\n",
    "    simulation : stochpy instance\n",
    "    Simulated stochpy instance.\n",
    "    windowtype : str\n",
    "    Specify which time window to use for visualization.\n",
    "    \"\"\"\n",
    "    \n",
    "    n_mol = simulation.data_stochsim.species[0][0]\n",
    "    if windowtype=='wide': \n",
    "        t_start = 200000\n",
    "        s = 5\n",
    "        n_plot = 100\n",
    "        step = 1000\n",
    "    elif windowtype=='nnarrow':\n",
    "        t_start = 20000\n",
    "        s = 1\n",
    "        n_plot = 100\n",
    "        step = 6\n",
    "        \n",
    "    if n_plot>n_mol:\n",
    "        n_plot = n_mol\n",
    "    \n",
    "    \n",
    "    time = simulation.data_stochsim.time\n",
    "    t_plot = time[-t_start::step]\n",
    "    plot_molecule_a = states_Sa[-t_start::step, :n_plot]\n",
    "    plot_molecule_b = states_Sb[-t_start::step, :n_plot]\n",
    "\n",
    "    plt.figure(figsize=(10, 10))\n",
    "    for row in tqdm(range(n_plot)):\n",
    "        color_by_state = []\n",
    "        for state in plot_molecule_a[:, row]:\n",
    "            if state==0:\n",
    "                color_by_state.append('b')\n",
    "            elif state==2:\n",
    "                color_by_state.append('g')        \n",
    "            elif state==4:\n",
    "                color_by_state.append('r')\n",
    "            elif state==6:\n",
    "                color_by_state.append('c')\n",
    "            else:\n",
    "                color_by_state.append('y')\n",
    "        plt.scatter(np.arange(t_plot.shape[0]), (2*n_plot-row)*np.ones(t_plot.shape[0]), c=color_by_state, s=s)\n",
    "    for row in tqdm(range(n_plot)):\n",
    "        color_by_state = []\n",
    "        for state in plot_molecule_b[:, row]:\n",
    "            if state==0:\n",
    "                color_by_state.append('b')\n",
    "            elif state==2:\n",
    "                color_by_state.append('g')        \n",
    "            elif state==4:\n",
    "                color_by_state.append('r')\n",
    "            elif state==6:\n",
    "                color_by_state.append('c')\n",
    "            else:\n",
    "                color_by_state.append('y')\n",
    "        plt.scatter(np.arange(t_plot.shape[0]), (n_plot-row)*np.ones(t_plot.shape[0]), c=color_by_state, s=s)\n",
    "    for spine in plt.gca().spines.values():\n",
    "        spine.set_visible(False)\n",
    "    plt.show()\n",
    "    plt.close()"
   ]
  },
  {
   "cell_type": "code",
   "execution_count": null,
   "metadata": {
    "collapsed": true
   },
   "outputs": [],
   "source": [
    "def visualize_enzyme_states(states_E, states_F, simulation, windowtype='wide'):\n",
    "    \"\"\"\n",
    "    Visualize which states molecules are in within a certain time window.\n",
    "    \n",
    "    Parameters\n",
    "    --------------\n",
    "    states_E : array\n",
    "    Molecule states of kinase reconstructed using the function 'reconstruct_enzyme_states'.\n",
    "    states_F : array\n",
    "    Molecule states of phosphatase b reconstructed using the function 'reconstruct_enzyme_states'.\n",
    "    simulation : stochpy instance\n",
    "    Simulated stochpy instance.\n",
    "    windowtype : str\n",
    "    Specify which time window to use for visualization.\n",
    "    \"\"\"\n",
    "    \n",
    "    n_mol = simulation.data_stochsim.species[0][0]\n",
    "    n_plot = 20\n",
    "    if windowtype=='wide': \n",
    "        t_start = 200000\n",
    "        s = 5\n",
    "        n_plot = 100\n",
    "        step = 1000\n",
    "    elif windowtype=='nnarrow':\n",
    "        t_start = 20000\n",
    "        s = 1\n",
    "        n_plot = 100\n",
    "        step = 6\n",
    "        \n",
    "    if n_plot>n_mol:\n",
    "        n_plot = n_mol\n",
    "    \n",
    "    \n",
    "    time = simulation.data_stochsim.time\n",
    "    t_plot = time[-t_start::step]\n",
    "    plot_molecule_E = states_E[-t_start::step, :n_plot]\n",
    "    plot_molecule_F = states_F[-t_start::step, :n_plot]\n",
    "\n",
    "    plt.figure(figsize=(10, 2))\n",
    "\n",
    "    for row in tqdm(range(n_plot)):\n",
    "        color_by_state = []\n",
    "        for state in plot_molecule_E[:, row]:\n",
    "            if state==0:\n",
    "                color_by_state.append('grey')\n",
    "            elif 1<=state<=4:\n",
    "                color_by_state.append('black')\n",
    "            elif 5<=state<=8:\n",
    "                color_by_state.append('white')\n",
    "        plt.scatter(np.arange(t_plot.shape[0]), (2*n_plot-row)*np.ones(t_plot.shape[0]), c=color_by_state, s=s)\n",
    "    \n",
    "    for row in tqdm(range(n_plot)):\n",
    "        color_by_state = []\n",
    "        for state in plot_molecule_F[:, row]:\n",
    "            if state==0:\n",
    "                color_by_state.append('grey')\n",
    "            elif 1<=state<=4:\n",
    "                color_by_state.append('black')\n",
    "            elif 5<=state<=8:\n",
    "                color_by_state.append('white')\n",
    "        plt.scatter(np.arange(t_plot.shape[0]), (n_plot-row)*np.ones(t_plot.shape[0]), c=color_by_state, s=s)\n",
    "    for spine in plt.gca().spines.values():\n",
    "        spine.set_visible(False)\n",
    "    plt.axis('off')\n",
    "    plt.show()\n",
    "    plt.close()"
   ]
  },
  {
   "cell_type": "code",
   "execution_count": null,
   "metadata": {
    "collapsed": true
   },
   "outputs": [],
   "source": []
  },
  {
   "cell_type": "code",
   "execution_count": null,
   "metadata": {
    "collapsed": true
   },
   "outputs": [],
   "source": [
    "# reconstruct states of molecules"
   ]
  },
  {
   "cell_type": "code",
   "execution_count": null,
   "metadata": {
    "scrolled": true
   },
   "outputs": [],
   "source": [
    "states_Sa = reconstruct_substrate_states(simulation, 'a')\n",
    "states_Sb = reconstruct_substrate_states(simulation, 'b')"
   ]
  },
  {
   "cell_type": "code",
   "execution_count": null,
   "metadata": {
    "scrolled": true
   },
   "outputs": [],
   "source": [
    "states_E = reconstruct_enzyme_states(simulation, 'E')\n",
    "states_F = reconstruct_enzyme_states(simulation, 'F')"
   ]
  },
  {
   "cell_type": "code",
   "execution_count": null,
   "metadata": {
    "scrolled": false
   },
   "outputs": [],
   "source": [
    "visualize_substrate_states(states_Sa, states_Sb, simulation, windowtype='narrow')\n",
    "visualize_enzyme_states(states_E, states_F, simulation, windowtype='narrow')"
   ]
  },
  {
   "cell_type": "code",
   "execution_count": null,
   "metadata": {
    "collapsed": true
   },
   "outputs": [],
   "source": []
  },
  {
   "cell_type": "code",
   "execution_count": null,
   "metadata": {
    "collapsed": true
   },
   "outputs": [],
   "source": [
    "def group_wise_percentage(states, labels):\n",
    "    \"\"\"\n",
    "    Return the percentage of specific states.\n",
    "    \n",
    "    Parameters\n",
    "    --------------\n",
    "    state : array\n",
    "    Molecule states reconstructed using the function 'reconstruct_*_states'.\n",
    "    labels : list\n",
    "    List of label index that specify the grouping of states.\n",
    "    For each substrate or enzyme, all the possible state should be included once in a group.\n",
    "    \n",
    "    Returns\n",
    "    ----------\n",
    "    percentage : array\n",
    "    The percentage of group-wise molecule states.\n",
    "    \"\"\"\n",
    "    \n",
    "    percentage = np.zeros((state.shape[0], len(labels)))\n",
    "    for il, l in enumerate(labels):\n",
    "        for thisl in l:\n",
    "            percentage[:, il] += np.sum(1*(state==thisl), axis=1)/state.shape[1]\n",
    "    return(percentage)"
   ]
  },
  {
   "cell_type": "code",
   "execution_count": null,
   "metadata": {},
   "outputs": [],
   "source": [
    "percentage = group_wise_percentage(states_E, [[0], [1, 2, 3, 4], [5, 6, 7, 8]])\n",
    "\n",
    "plt.plot(percentage)\n",
    "plt.xlim(percentage.shape[0]-100000, percentage.shape[0])\n",
    "plt.legend(['Free', 'Sa', 'Sb'])\n",
    "plt.show()"
   ]
  }
 ],
 "metadata": {
  "kernelspec": {
   "display_name": "Python 3",
   "language": "python",
   "name": "python3"
  },
  "language_info": {
   "codemirror_mode": {
    "name": "ipython",
    "version": 3
   },
   "file_extension": ".py",
   "mimetype": "text/x-python",
   "name": "python",
   "nbconvert_exporter": "python",
   "pygments_lexer": "ipython3",
   "version": "3.6.1"
  }
 },
 "nbformat": 4,
 "nbformat_minor": 2
}
